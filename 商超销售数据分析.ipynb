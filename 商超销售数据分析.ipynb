{
 "cells": [
  {
   "cell_type": "markdown",
   "id": "06f284c4-e7f1-48e4-a47b-ed27b5d9b15a",
   "metadata": {},
   "source": [
    "<h1>Table of Contents<span class=\"tocSkip\"></span></h1>\n",
    "<div class=\"toc\"><ul class=\"toc-item\">\n",
    "    <li><span><a href=\"#项目介绍\" data-toc-modified-id=\"项目介绍-1\">项目介绍</a></span></li>\n",
    "    <li><span><a href=\"#哪些类别比较畅销?\" data-toc-modified-id=\"哪些类别比较畅销?-2\">哪些类别比较畅销?</a></span></li>\n",
    "    <li><span><a href=\"#哪些商品比较畅销?\" data-toc-modified-id=\"哪些商品比较畅销?-3\">哪些商品比较畅销?</a></span></li>\n",
    "    <li><span><a href=\"#不同门店的销售额占比\" data-toc-modified-id=\"不同门店的销售额占比-4\">不同门店的销售额占比</a></span></li>\n",
    "    <li><span><a href=\"#哪个时间段是超市的客流高封期?\" data-toc-modified-id=\"哪个时间段是超市的客流高封期?-5\">哪个时间段是超市的客流高封期?</a></span></li>\n",
    "</ul></div>"
   ]
  },
  {
   "cell_type": "markdown",
   "id": "25fda9be-a3e3-48a8-ae3f-85ca3ce34156",
   "metadata": {},
   "source": [
    "# 项目介绍\n",
    "\n",
    "近些年来，国内大型连锁超市如雨后春笋般迸发，对于各个超市来说，竞争压力不可谓不大，为了拓展、保留客户，各种促销手段应运而生。\n",
    "\n",
    "以下为国内某连锁超市的成交统计数据，针对于该数据，挖掘其中价值，为该超市的促销手段提供技术支持。"
   ]
  },
  {
   "cell_type": "code",
   "execution_count": 8,
   "id": "e0a99dfe-f401-4800-8e7e-a74a95c837e3",
   "metadata": {},
   "outputs": [
    {
     "name": "stdout",
     "output_type": "stream",
     "text": [
      "(3478, 7)\n"
     ]
    },
    {
     "data": {
      "text/html": [
       "<div>\n",
       "<style scoped>\n",
       "    .dataframe tbody tr th:only-of-type {\n",
       "        vertical-align: middle;\n",
       "    }\n",
       "\n",
       "    .dataframe tbody tr th {\n",
       "        vertical-align: top;\n",
       "    }\n",
       "\n",
       "    .dataframe thead th {\n",
       "        text-align: right;\n",
       "    }\n",
       "</style>\n",
       "<table border=\"1\" class=\"dataframe\">\n",
       "  <thead>\n",
       "    <tr style=\"text-align: right;\">\n",
       "      <th></th>\n",
       "      <th>商品ID</th>\n",
       "      <th>类别ID</th>\n",
       "      <th>门店编号</th>\n",
       "      <th>单价</th>\n",
       "      <th>销量</th>\n",
       "      <th>成交时间</th>\n",
       "      <th>订单ID</th>\n",
       "    </tr>\n",
       "  </thead>\n",
       "  <tbody>\n",
       "    <tr>\n",
       "      <th>0</th>\n",
       "      <td>30006206</td>\n",
       "      <td>915000003</td>\n",
       "      <td>CDNL</td>\n",
       "      <td>25.23</td>\n",
       "      <td>0.328</td>\n",
       "      <td>2017-01-03 09:56:00</td>\n",
       "      <td>20170103CDLG000210052759</td>\n",
       "    </tr>\n",
       "    <tr>\n",
       "      <th>1</th>\n",
       "      <td>30163281</td>\n",
       "      <td>914010000</td>\n",
       "      <td>CDNL</td>\n",
       "      <td>2.00</td>\n",
       "      <td>2.000</td>\n",
       "      <td>2017-01-03 09:56:00</td>\n",
       "      <td>20170103CDLG000210052759</td>\n",
       "    </tr>\n",
       "    <tr>\n",
       "      <th>2</th>\n",
       "      <td>30200518</td>\n",
       "      <td>922000000</td>\n",
       "      <td>CDNL</td>\n",
       "      <td>19.62</td>\n",
       "      <td>0.230</td>\n",
       "      <td>2017-01-03 09:56:00</td>\n",
       "      <td>20170103CDLG000210052759</td>\n",
       "    </tr>\n",
       "    <tr>\n",
       "      <th>3</th>\n",
       "      <td>29989105</td>\n",
       "      <td>922000000</td>\n",
       "      <td>CDNL</td>\n",
       "      <td>2.80</td>\n",
       "      <td>2.044</td>\n",
       "      <td>2017-01-03 09:56:00</td>\n",
       "      <td>20170103CDLG000210052759</td>\n",
       "    </tr>\n",
       "    <tr>\n",
       "      <th>4</th>\n",
       "      <td>30179558</td>\n",
       "      <td>915000100</td>\n",
       "      <td>CDNL</td>\n",
       "      <td>47.41</td>\n",
       "      <td>0.226</td>\n",
       "      <td>2017-01-03 09:56:00</td>\n",
       "      <td>20170103CDLG000210052759</td>\n",
       "    </tr>\n",
       "  </tbody>\n",
       "</table>\n",
       "</div>"
      ],
      "text/plain": [
       "       商品ID       类别ID  门店编号     单价     销量                成交时间  \\\n",
       "0  30006206  915000003  CDNL  25.23  0.328 2017-01-03 09:56:00   \n",
       "1  30163281  914010000  CDNL   2.00  2.000 2017-01-03 09:56:00   \n",
       "2  30200518  922000000  CDNL  19.62  0.230 2017-01-03 09:56:00   \n",
       "3  29989105  922000000  CDNL   2.80  2.044 2017-01-03 09:56:00   \n",
       "4  30179558  915000100  CDNL  47.41  0.226 2017-01-03 09:56:00   \n",
       "\n",
       "                       订单ID  \n",
       "0  20170103CDLG000210052759  \n",
       "1  20170103CDLG000210052759  \n",
       "2  20170103CDLG000210052759  \n",
       "3  20170103CDLG000210052759  \n",
       "4  20170103CDLG000210052759  "
      ]
     },
     "execution_count": 8,
     "metadata": {},
     "output_type": "execute_result"
    }
   ],
   "source": [
    "import pandas as pd \n",
    "from datetime import datetime\n",
    "\n",
    "#导入数据源，parse_dates：将时间字符串转为日期时间格式\n",
    "data = pd.read_csv(\"order-14.3.csv\",parse_dates = [\"成交时间\"],encoding = 'gbk')\n",
    "print(data.shape)\n",
    "data.head(5)"
   ]
  },
  {
   "cell_type": "markdown",
   "id": "aa4358cf-1d91-411c-8905-79344d52e246",
   "metadata": {},
   "source": [
    "# 哪些类别比较畅销"
   ]
  },
  {
   "cell_type": "code",
   "execution_count": 9,
   "id": "8bc198b5-c325-4da6-8dbd-b646fc37ae0b",
   "metadata": {},
   "outputs": [
    {
     "data": {
      "text/html": [
       "<div>\n",
       "<style scoped>\n",
       "    .dataframe tbody tr th:only-of-type {\n",
       "        vertical-align: middle;\n",
       "    }\n",
       "\n",
       "    .dataframe tbody tr th {\n",
       "        vertical-align: top;\n",
       "    }\n",
       "\n",
       "    .dataframe thead th {\n",
       "        text-align: right;\n",
       "    }\n",
       "</style>\n",
       "<table border=\"1\" class=\"dataframe\">\n",
       "  <thead>\n",
       "    <tr style=\"text-align: right;\">\n",
       "      <th></th>\n",
       "      <th>类别ID</th>\n",
       "      <th>销量</th>\n",
       "    </tr>\n",
       "  </thead>\n",
       "  <tbody>\n",
       "    <tr>\n",
       "      <th>240</th>\n",
       "      <td>922000003</td>\n",
       "      <td>425.328</td>\n",
       "    </tr>\n",
       "    <tr>\n",
       "      <th>239</th>\n",
       "      <td>922000002</td>\n",
       "      <td>206.424</td>\n",
       "    </tr>\n",
       "    <tr>\n",
       "      <th>251</th>\n",
       "      <td>923000006</td>\n",
       "      <td>190.294</td>\n",
       "    </tr>\n",
       "    <tr>\n",
       "      <th>216</th>\n",
       "      <td>915030104</td>\n",
       "      <td>175.059</td>\n",
       "    </tr>\n",
       "    <tr>\n",
       "      <th>238</th>\n",
       "      <td>922000001</td>\n",
       "      <td>121.355</td>\n",
       "    </tr>\n",
       "    <tr>\n",
       "      <th>367</th>\n",
       "      <td>960000000</td>\n",
       "      <td>121.000</td>\n",
       "    </tr>\n",
       "    <tr>\n",
       "      <th>234</th>\n",
       "      <td>920090000</td>\n",
       "      <td>111.565</td>\n",
       "    </tr>\n",
       "    <tr>\n",
       "      <th>249</th>\n",
       "      <td>923000002</td>\n",
       "      <td>91.847</td>\n",
       "    </tr>\n",
       "    <tr>\n",
       "      <th>237</th>\n",
       "      <td>922000000</td>\n",
       "      <td>86.395</td>\n",
       "    </tr>\n",
       "    <tr>\n",
       "      <th>247</th>\n",
       "      <td>923000000</td>\n",
       "      <td>85.845</td>\n",
       "    </tr>\n",
       "  </tbody>\n",
       "</table>\n",
       "</div>"
      ],
      "text/plain": [
       "          类别ID       销量\n",
       "240  922000003  425.328\n",
       "239  922000002  206.424\n",
       "251  923000006  190.294\n",
       "216  915030104  175.059\n",
       "238  922000001  121.355\n",
       "367  960000000  121.000\n",
       "234  920090000  111.565\n",
       "249  923000002   91.847\n",
       "237  922000000   86.395\n",
       "247  923000000   85.845"
      ]
     },
     "execution_count": 9,
     "metadata": {},
     "output_type": "execute_result"
    }
   ],
   "source": [
    "data.groupby(\"类别ID\")[\"销量\"].sum().reset_index().sort_values(by = \"销量\",ascending = False).head(10)"
   ]
  },
  {
   "cell_type": "markdown",
   "id": "3cabba1e-d7e8-4141-8b8c-b4bbb8d7dfde",
   "metadata": {},
   "source": [
    "# 哪些商品比较畅销？"
   ]
  },
  {
   "cell_type": "code",
   "execution_count": 10,
   "id": "4d263ac8-ce71-4bc7-847d-f1c24ec89ba2",
   "metadata": {},
   "outputs": [
    {
     "data": {
      "text/html": [
       "<div>\n",
       "<style scoped>\n",
       "    .dataframe tbody tr th:only-of-type {\n",
       "        vertical-align: middle;\n",
       "    }\n",
       "\n",
       "    .dataframe tbody tr th {\n",
       "        vertical-align: top;\n",
       "    }\n",
       "\n",
       "    .dataframe thead th {\n",
       "        text-align: right;\n",
       "    }\n",
       "</style>\n",
       "<table border=\"1\" class=\"dataframe\">\n",
       "  <thead>\n",
       "    <tr style=\"text-align: right;\">\n",
       "      <th></th>\n",
       "      <th>商品ID</th>\n",
       "      <th>销量</th>\n",
       "    </tr>\n",
       "  </thead>\n",
       "  <tbody>\n",
       "    <tr>\n",
       "      <th>8</th>\n",
       "      <td>29989059</td>\n",
       "      <td>391.549</td>\n",
       "    </tr>\n",
       "    <tr>\n",
       "      <th>18</th>\n",
       "      <td>29989072</td>\n",
       "      <td>102.876</td>\n",
       "    </tr>\n",
       "    <tr>\n",
       "      <th>469</th>\n",
       "      <td>30022232</td>\n",
       "      <td>101.000</td>\n",
       "    </tr>\n",
       "    <tr>\n",
       "      <th>523</th>\n",
       "      <td>30031960</td>\n",
       "      <td>99.998</td>\n",
       "    </tr>\n",
       "    <tr>\n",
       "      <th>57</th>\n",
       "      <td>29989157</td>\n",
       "      <td>72.453</td>\n",
       "    </tr>\n",
       "    <tr>\n",
       "      <th>476</th>\n",
       "      <td>30023041</td>\n",
       "      <td>64.416</td>\n",
       "    </tr>\n",
       "    <tr>\n",
       "      <th>505</th>\n",
       "      <td>30026255</td>\n",
       "      <td>62.375</td>\n",
       "    </tr>\n",
       "    <tr>\n",
       "      <th>7</th>\n",
       "      <td>29989058</td>\n",
       "      <td>56.052</td>\n",
       "    </tr>\n",
       "    <tr>\n",
       "      <th>510</th>\n",
       "      <td>30027007</td>\n",
       "      <td>48.757</td>\n",
       "    </tr>\n",
       "    <tr>\n",
       "      <th>903</th>\n",
       "      <td>30171264</td>\n",
       "      <td>45.000</td>\n",
       "    </tr>\n",
       "  </tbody>\n",
       "</table>\n",
       "</div>"
      ],
      "text/plain": [
       "         商品ID       销量\n",
       "8    29989059  391.549\n",
       "18   29989072  102.876\n",
       "469  30022232  101.000\n",
       "523  30031960   99.998\n",
       "57   29989157   72.453\n",
       "476  30023041   64.416\n",
       "505  30026255   62.375\n",
       "7    29989058   56.052\n",
       "510  30027007   48.757\n",
       "903  30171264   45.000"
      ]
     },
     "execution_count": 10,
     "metadata": {},
     "output_type": "execute_result"
    }
   ],
   "source": [
    "pd.pivot_table(data,index = \"商品ID\",values = \"销量\",aggfunc = \"sum\").reset_index().sort_values(by = \"销量\",ascending = False).head(10)"
   ]
  },
  {
   "cell_type": "markdown",
   "id": "31837633-7a57-4f02-8950-0d9878f303db",
   "metadata": {},
   "source": [
    "# 不同门店的销售额占比"
   ]
  },
  {
   "cell_type": "code",
   "execution_count": 15,
   "id": "0f720b1f-1e56-452a-9785-4b1cd81fae76",
   "metadata": {},
   "outputs": [
    {
     "name": "stdout",
     "output_type": "stream",
     "text": [
      "门店编号\n",
      "CDLG    10908.82612\n",
      "CDNL     8059.47867\n",
      "CDXL     9981.76166\n",
      "Name: 销售额, dtype: float64\n"
     ]
    },
    {
     "data": {
      "text/html": [
       "<div>\n",
       "<style scoped>\n",
       "    .dataframe tbody tr th:only-of-type {\n",
       "        vertical-align: middle;\n",
       "    }\n",
       "\n",
       "    .dataframe tbody tr th {\n",
       "        vertical-align: top;\n",
       "    }\n",
       "\n",
       "    .dataframe thead th {\n",
       "        text-align: right;\n",
       "    }\n",
       "</style>\n",
       "<table border=\"1\" class=\"dataframe\">\n",
       "  <thead>\n",
       "    <tr style=\"text-align: right;\">\n",
       "      <th></th>\n",
       "      <th>门店编号</th>\n",
       "      <th>销售额占比</th>\n",
       "    </tr>\n",
       "  </thead>\n",
       "  <tbody>\n",
       "    <tr>\n",
       "      <th>0</th>\n",
       "      <td>CDLG</td>\n",
       "      <td>0.376815</td>\n",
       "    </tr>\n",
       "    <tr>\n",
       "      <th>1</th>\n",
       "      <td>CDNL</td>\n",
       "      <td>0.278392</td>\n",
       "    </tr>\n",
       "    <tr>\n",
       "      <th>2</th>\n",
       "      <td>CDXL</td>\n",
       "      <td>0.344792</td>\n",
       "    </tr>\n",
       "  </tbody>\n",
       "</table>\n",
       "</div>"
      ],
      "text/plain": [
       "   门店编号     销售额占比\n",
       "0  CDLG  0.376815\n",
       "1  CDNL  0.278392\n",
       "2  CDXL  0.344792"
      ]
     },
     "execution_count": 15,
     "metadata": {},
     "output_type": "execute_result"
    }
   ],
   "source": [
    "data[\"销售额\"] = data[\"销量\"]*data[\"单价\"]\n",
    "\n",
    "#不同某店销售\n",
    "print(data.groupby(\"门店编号\")[\"销售额\"].sum()) \n",
    "\n",
    "#不同门店的销售额占比\n",
    "dfbb = data.groupby(\"门店编号\")[\"销售额\"].sum()/data[\"销售额\"].sum()\n",
    "dfbb = dfbb.reset_index()  # 将索引转为列\n",
    "dfbb.columns = [\"门店编号\", \"销售额占比\"]  # 重命名列\n",
    "\n",
    "dfbb"
   ]
  },
  {
   "cell_type": "code",
   "execution_count": 23,
   "id": "e00b4c1a-248c-4208-9380-7db6f69ec1e5",
   "metadata": {},
   "outputs": [
    {
     "data": {
      "text/plain": [
       "<Axes: ylabel='销售额'>"
      ]
     },
     "execution_count": 23,
     "metadata": {},
     "output_type": "execute_result"
    },
    {
     "data": {
      "image/png": "[encoded data removed]",
      "text/plain": [
       "<Figure size 600x600 with 1 Axes>"
      ]
     },
     "metadata": {},
     "output_type": "display_data"
    }
   ],
   "source": [
    "import matplotlib as plt\n",
    "\n",
    "plt.rcParams['figure.figsize'] = (6.0,6.0)    # 设置figure_size尺寸\n",
    "plt.rcParams['font.sans-serif'] = ['SimHei']   # 用来设置字体样式以正常显示中文标签\n",
    "plt.rcParams['axes.unicode_minus'] = False     # 默认是使用Unicode负号，设置正常显示字符，如正常显示负号\n",
    "plt.rcParams['font.size'] = 15\n",
    "\n",
    "(data.groupby(\"门店编号\")[\"销售额\"].sum()/data[\"销售额\"].sum()).plot.pie()"
   ]
  },
  {
   "cell_type": "markdown",
   "id": "cf5dc5b1-1321-44cc-bedd-9b37da923064",
   "metadata": {},
   "source": [
    "# 哪个时间段是超市的客流高峰期"
   ]
  },
  {
   "cell_type": "code",
   "execution_count": 26,
   "id": "66f5c71f-9260-4363-a708-26de18efbc00",
   "metadata": {},
   "outputs": [
    {
     "data": {
      "text/plain": [
       "<Axes: xlabel='小时'>"
      ]
     },
     "execution_count": 26,
     "metadata": {},
     "output_type": "execute_result"
    },
    {
     "data": {
      "image/png": "[encoded data removed]",
      "text/plain": [
       "<Figure size 600x600 with 1 Axes>"
      ]
     },
     "metadata": {},
     "output_type": "display_data"
    }
   ],
   "source": [
    "# 利用自定义时间格式函数strftime提取小时数\n",
    "data[\"小时\"] = data[\"成交时间\"].map(lambda x:int(x.strftime(\"%H\")))\n",
    "\n",
    "#对小时和订单去重\n",
    "traffic = data[[\"小时\",\"订单ID\"]].drop_duplicates()\n",
    "\n",
    "#求每小时的客流量\n",
    "traffic.groupby(\"小时\")[\"订单ID\"].count().plot()"
   ]
  }
 ],
 "metadata": {
  "kernelspec": {
   "display_name": "Python 3 (ipykernel)",
   "language": "python",
   "name": "python3"
  },
  "language_info": {
   "codemirror_mode": {
    "name": "ipython",
    "version": 3
   },
   "file_extension": ".py",
   "mimetype": "text/x-python",
   "name": "python",
   "nbconvert_exporter": "python",
   "pygments_lexer": "ipython3",
   "version": "3.9.13"
  }
 },
 "nbformat": 4,
 "nbformat_minor": 5
}
