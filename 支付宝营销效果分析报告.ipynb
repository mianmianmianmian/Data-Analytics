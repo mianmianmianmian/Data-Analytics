{
 "cells": [
  {
   "cell_type": "markdown",
   "id": "0f398738-99e4-4f66-80d8-fd7d5a18c60a",
   "metadata": {},
   "source": [
    "# 支付宝营销策略效果分析"
   ]
  },
  {
   "cell_type": "markdown",
   "id": "ab17130a-9c9c-4ff4-93bd-5f74fa1ef9aa",
   "metadata": {},
   "source": [
    "A/B测试常用于比较不同设计、应用方案的优劣，以辅助决策。本次分析以支付宝营销活动为例，通过点击率指标比较两组营销策略的广澳投放效果。"
   ]
  },
  {
   "cell_type": "markdown",
   "id": "4d9da25d-9e8b-4546-90bb-1d47b2ab3b54",
   "metadata": {},
   "source": [
    "## 1.数据来源"
   ]
  },
  {
   "cell_type": "markdown",
   "id": "be8f46eb-2bd3-4888-9b41-2228a83b1230",
   "metadata": {},
   "source": [
    "本文所使用的数据集来自阿里天池：\n",
    "\n",
    "该数据集包含三张表，分别记录了支付宝两组营销策略的活动情况：\n",
    "\n",
    "- emb_tb_2.csv:用户特征数据集\n",
    "- effect_tb.csv:广告点击情况数据集\n",
    "- seed_cand_tb.csv:用户类型数据集\n",
    "\n",
    "本报告主要使用广澳点击情况数据，涉及字段如下：\n",
    "\n",
    "- dmp_id:销售策略编号（源数据文档未作说明，这里根据数据情况设定为1：对照组；2：营销策略一；3：营销策略二）\n",
    "- user_id:支付宝用户ID\n",
    "- label:用户当天是否点击活动广告（0：未点击；1：点击）"
   ]
  },
  {
   "cell_type": "markdown",
   "id": "b10699e1-abe2-4705-9899-199a8e9194bd",
   "metadata": {},
   "source": [
    "## 2.数据处理"
   ]
  },
  {
   "cell_type": "markdown",
   "id": "06009f6e-07e3-476a-bb84-3d695f6ce71d",
   "metadata": {},
   "source": [
    "### （1）评估数据整齐度"
   ]
  },
  {
   "cell_type": "code",
   "execution_count": 1,
   "id": "558f66ae-6580-4ad4-8b04-55f1b4f89d96",
   "metadata": {},
   "outputs": [],
   "source": [
    "import pandas as pd\n",
    "import numpy as np\n",
    "import matplotlib.pyplot as plt\n",
    "import statsmodels.stats.api as sms\n",
    "\n",
    "%matplotlib inline"
   ]
  },
  {
   "cell_type": "code",
   "execution_count": 2,
   "id": "eba6f4bf-ee29-46a9-add3-2b19c18ec582",
   "metadata": {},
   "outputs": [
    {
     "data": {
      "text/html": [
       "<div>\n",
       "<style scoped>\n",
       "    .dataframe tbody tr th:only-of-type {\n",
       "        vertical-align: middle;\n",
       "    }\n",
       "\n",
       "    .dataframe tbody tr th {\n",
       "        vertical-align: top;\n",
       "    }\n",
       "\n",
       "    .dataframe thead th {\n",
       "        text-align: right;\n",
       "    }\n",
       "</style>\n",
       "<table border=\"1\" class=\"dataframe\">\n",
       "  <thead>\n",
       "    <tr style=\"text-align: right;\">\n",
       "      <th></th>\n",
       "      <th>user_id</th>\n",
       "      <th>label</th>\n",
       "      <th>dmp_id</th>\n",
       "    </tr>\n",
       "  </thead>\n",
       "  <tbody>\n",
       "    <tr>\n",
       "      <th>0</th>\n",
       "      <td>1</td>\n",
       "      <td>0</td>\n",
       "      <td>1</td>\n",
       "    </tr>\n",
       "    <tr>\n",
       "      <th>1</th>\n",
       "      <td>1000004</td>\n",
       "      <td>0</td>\n",
       "      <td>1</td>\n",
       "    </tr>\n",
       "    <tr>\n",
       "      <th>2</th>\n",
       "      <td>1000004</td>\n",
       "      <td>0</td>\n",
       "      <td>2</td>\n",
       "    </tr>\n",
       "    <tr>\n",
       "      <th>3</th>\n",
       "      <td>1000006</td>\n",
       "      <td>0</td>\n",
       "      <td>1</td>\n",
       "    </tr>\n",
       "    <tr>\n",
       "      <th>4</th>\n",
       "      <td>1000006</td>\n",
       "      <td>0</td>\n",
       "      <td>3</td>\n",
       "    </tr>\n",
       "    <tr>\n",
       "      <th>5</th>\n",
       "      <td>1000007</td>\n",
       "      <td>0</td>\n",
       "      <td>1</td>\n",
       "    </tr>\n",
       "    <tr>\n",
       "      <th>6</th>\n",
       "      <td>1000008</td>\n",
       "      <td>0</td>\n",
       "      <td>3</td>\n",
       "    </tr>\n",
       "    <tr>\n",
       "      <th>7</th>\n",
       "      <td>1000014</td>\n",
       "      <td>0</td>\n",
       "      <td>1</td>\n",
       "    </tr>\n",
       "    <tr>\n",
       "      <th>8</th>\n",
       "      <td>1000016</td>\n",
       "      <td>0</td>\n",
       "      <td>3</td>\n",
       "    </tr>\n",
       "    <tr>\n",
       "      <th>9</th>\n",
       "      <td>1000018</td>\n",
       "      <td>0</td>\n",
       "      <td>1</td>\n",
       "    </tr>\n",
       "  </tbody>\n",
       "</table>\n",
       "</div>"
      ],
      "text/plain": [
       "   user_id  label  dmp_id\n",
       "0        1      0       1\n",
       "1  1000004      0       1\n",
       "2  1000004      0       2\n",
       "3  1000006      0       1\n",
       "4  1000006      0       3\n",
       "5  1000007      0       1\n",
       "6  1000008      0       3\n",
       "7  1000014      0       1\n",
       "8  1000016      0       3\n",
       "9  1000018      0       1"
      ]
     },
     "execution_count": 2,
     "metadata": {},
     "output_type": "execute_result"
    }
   ],
   "source": [
    "#读取数据，并对列进行重命名\n",
    "data = pd.read_csv('effect_tb.csv', header=None)\n",
    "data.columns = [\"dt\",\"user_id\",\"label\",\"dmp_id\"]\n",
    "\n",
    "#删除不涉及分析主题的属性\n",
    "data = data.drop(columns=\"dt\")\n",
    "data.head(10)"
   ]
  },
  {
   "cell_type": "markdown",
   "id": "c47dcb8e-81de-411a-937b-e017a96ef469",
   "metadata": {},
   "source": [
    "数据整齐度无误"
   ]
  },
  {
   "cell_type": "markdown",
   "id": "98dc4d8e-952a-40d5-b9a0-3b52da7589e9",
   "metadata": {},
   "source": [
    "### （2）评估数据干净度"
   ]
  },
  {
   "cell_type": "code",
   "execution_count": 3,
   "id": "de12259a-4f79-4d51-9d6f-95b6aa1321fe",
   "metadata": {},
   "outputs": [
    {
     "name": "stdout",
     "output_type": "stream",
     "text": [
      "<class 'pandas.core.frame.DataFrame'>\n",
      "RangeIndex: 2645958 entries, 0 to 2645957\n",
      "Data columns (total 3 columns):\n",
      " #   Column   Dtype\n",
      "---  ------   -----\n",
      " 0   user_id  int64\n",
      " 1   label    int64\n",
      " 2   dmp_id   int64\n",
      "dtypes: int64(3)\n",
      "memory usage: 60.6 MB\n"
     ]
    }
   ],
   "source": [
    "#查看数据摘要信息\n",
    "data.info()"
   ]
  },
  {
   "cell_type": "markdown",
   "id": "27460283-27ff-4ad7-a48e-9766c56f985d",
   "metadata": {},
   "source": [
    "从输出结果来看，“user_id” 列应该为字符串类型。"
   ]
  },
  {
   "cell_type": "code",
   "execution_count": 4,
   "id": "001bf5b3-6877-4e38-bdc5-12a817ab4a58",
   "metadata": {},
   "outputs": [
    {
     "name": "stdout",
     "output_type": "stream",
     "text": [
      "<class 'pandas.core.frame.DataFrame'>\n",
      "RangeIndex: 2645958 entries, 0 to 2645957\n",
      "Data columns (total 3 columns):\n",
      " #   Column   Dtype \n",
      "---  ------   ----- \n",
      " 0   user_id  object\n",
      " 1   label    int64 \n",
      " 2   dmp_id   int64 \n",
      "dtypes: int64(2), object(1)\n",
      "memory usage: 60.6+ MB\n"
     ]
    }
   ],
   "source": [
    "data['user_id'] = data['user_id'].astype(str)\n",
    "data.info()"
   ]
  },
  {
   "cell_type": "markdown",
   "id": "8a1d8f83-5926-496d-bfb7-50970b2f250d",
   "metadata": {},
   "source": [
    "#### 【1】评估重复值"
   ]
  },
  {
   "cell_type": "markdown",
   "id": "eef67534-7c09-47ae-b72e-97d3deadfdb0",
   "metadata": {},
   "source": [
    "根据数据变量的含义来看，“user_id”是唯一标识符，不允许存在重复值"
   ]
  },
  {
   "cell_type": "code",
   "execution_count": 5,
   "id": "4d5e3fb6-5f13-467f-9d14-ca816e92b064",
   "metadata": {},
   "outputs": [
    {
     "data": {
      "text/plain": [
       "(2645958, 3)"
      ]
     },
     "execution_count": 5,
     "metadata": {},
     "output_type": "execute_result"
    }
   ],
   "source": [
    "data.shape"
   ]
  },
  {
   "cell_type": "code",
   "execution_count": 6,
   "id": "9b4c3d5b-88ce-4782-b675-ce4d00656f07",
   "metadata": {},
   "outputs": [
    {
     "data": {
      "text/plain": [
       "user_id    2410683\n",
       "label            2\n",
       "dmp_id           3\n",
       "dtype: int64"
      ]
     },
     "execution_count": 6,
     "metadata": {},
     "output_type": "execute_result"
    }
   ],
   "source": [
    "data.nunique()"
   ]
  },
  {
   "cell_type": "markdown",
   "id": "62ed7563-5786-41c3-8ca0-bd66e37febcd",
   "metadata": {},
   "source": [
    "\"user_id\"作为唯一标识符，数据行数与独立用户数不统一，检查重复值"
   ]
  },
  {
   "cell_type": "code",
   "execution_count": 7,
   "id": "8411a8ca-a68a-4d3e-be82-eb4d4441a0e7",
   "metadata": {},
   "outputs": [
    {
     "data": {
      "text/html": [
       "<div>\n",
       "<style scoped>\n",
       "    .dataframe tbody tr th:only-of-type {\n",
       "        vertical-align: middle;\n",
       "    }\n",
       "\n",
       "    .dataframe tbody tr th {\n",
       "        vertical-align: top;\n",
       "    }\n",
       "\n",
       "    .dataframe thead th {\n",
       "        text-align: right;\n",
       "    }\n",
       "</style>\n",
       "<table border=\"1\" class=\"dataframe\">\n",
       "  <thead>\n",
       "    <tr style=\"text-align: right;\">\n",
       "      <th></th>\n",
       "      <th>user_id</th>\n",
       "      <th>label</th>\n",
       "      <th>dmp_id</th>\n",
       "    </tr>\n",
       "  </thead>\n",
       "  <tbody>\n",
       "    <tr>\n",
       "      <th>215</th>\n",
       "      <td>1000625</td>\n",
       "      <td>0</td>\n",
       "      <td>1</td>\n",
       "    </tr>\n",
       "    <tr>\n",
       "      <th>1480321</th>\n",
       "      <td>1000625</td>\n",
       "      <td>0</td>\n",
       "      <td>1</td>\n",
       "    </tr>\n",
       "    <tr>\n",
       "      <th>356</th>\n",
       "      <td>1001026</td>\n",
       "      <td>0</td>\n",
       "      <td>1</td>\n",
       "    </tr>\n",
       "    <tr>\n",
       "      <th>1480397</th>\n",
       "      <td>1001026</td>\n",
       "      <td>0</td>\n",
       "      <td>1</td>\n",
       "    </tr>\n",
       "    <tr>\n",
       "      <th>600</th>\n",
       "      <td>1001855</td>\n",
       "      <td>0</td>\n",
       "      <td>1</td>\n",
       "    </tr>\n",
       "    <tr>\n",
       "      <th>...</th>\n",
       "      <td>...</td>\n",
       "      <td>...</td>\n",
       "      <td>...</td>\n",
       "    </tr>\n",
       "    <tr>\n",
       "      <th>1479589</th>\n",
       "      <td>998090</td>\n",
       "      <td>0</td>\n",
       "      <td>1</td>\n",
       "    </tr>\n",
       "    <tr>\n",
       "      <th>2645754</th>\n",
       "      <td>998892</td>\n",
       "      <td>0</td>\n",
       "      <td>1</td>\n",
       "    </tr>\n",
       "    <tr>\n",
       "      <th>1479854</th>\n",
       "      <td>998892</td>\n",
       "      <td>0</td>\n",
       "      <td>1</td>\n",
       "    </tr>\n",
       "    <tr>\n",
       "      <th>1480094</th>\n",
       "      <td>999610</td>\n",
       "      <td>0</td>\n",
       "      <td>1</td>\n",
       "    </tr>\n",
       "    <tr>\n",
       "      <th>2645888</th>\n",
       "      <td>999610</td>\n",
       "      <td>0</td>\n",
       "      <td>1</td>\n",
       "    </tr>\n",
       "  </tbody>\n",
       "</table>\n",
       "<p>25966 rows × 3 columns</p>\n",
       "</div>"
      ],
      "text/plain": [
       "         user_id  label  dmp_id\n",
       "215      1000625      0       1\n",
       "1480321  1000625      0       1\n",
       "356      1001026      0       1\n",
       "1480397  1001026      0       1\n",
       "600      1001855      0       1\n",
       "...          ...    ...     ...\n",
       "1479589   998090      0       1\n",
       "2645754   998892      0       1\n",
       "1479854   998892      0       1\n",
       "1480094   999610      0       1\n",
       "2645888   999610      0       1\n",
       "\n",
       "[25966 rows x 3 columns]"
      ]
     },
     "execution_count": 7,
     "metadata": {},
     "output_type": "execute_result"
    }
   ],
   "source": [
    "data[data.duplicated(keep=False)].sort_values(by = [\"user_id\"])"
   ]
  },
  {
   "cell_type": "code",
   "execution_count": 8,
   "id": "e3eab14a-46c8-4b89-bc16-c040c8cd2521",
   "metadata": {},
   "outputs": [],
   "source": [
    "#删除重复行\n",
    "data = data.drop_duplicates()"
   ]
  },
  {
   "cell_type": "code",
   "execution_count": 9,
   "id": "c4673a71-c1f1-46cf-ae50-2bc31ff88e42",
   "metadata": {},
   "outputs": [
    {
     "data": {
      "text/html": [
       "<div>\n",
       "<style scoped>\n",
       "    .dataframe tbody tr th:only-of-type {\n",
       "        vertical-align: middle;\n",
       "    }\n",
       "\n",
       "    .dataframe tbody tr th {\n",
       "        vertical-align: top;\n",
       "    }\n",
       "\n",
       "    .dataframe thead th {\n",
       "        text-align: right;\n",
       "    }\n",
       "</style>\n",
       "<table border=\"1\" class=\"dataframe\">\n",
       "  <thead>\n",
       "    <tr style=\"text-align: right;\">\n",
       "      <th></th>\n",
       "      <th>user_id</th>\n",
       "      <th>label</th>\n",
       "      <th>dmp_id</th>\n",
       "    </tr>\n",
       "  </thead>\n",
       "  <tbody>\n",
       "  </tbody>\n",
       "</table>\n",
       "</div>"
      ],
      "text/plain": [
       "Empty DataFrame\n",
       "Columns: [user_id, label, dmp_id]\n",
       "Index: []"
      ]
     },
     "execution_count": 9,
     "metadata": {},
     "output_type": "execute_result"
    }
   ],
   "source": [
    "data[data.duplicated(keep=False)]"
   ]
  },
  {
   "cell_type": "markdown",
   "id": "a33540df-7ad5-490b-98d2-4171ee3198c4",
   "metadata": {},
   "source": [
    "#### 【2】评估缺失值"
   ]
  },
  {
   "cell_type": "code",
   "execution_count": 10,
   "id": "822d205f-1964-48f5-81b9-98d1bd3d699d",
   "metadata": {},
   "outputs": [
    {
     "name": "stdout",
     "output_type": "stream",
     "text": [
      "<class 'pandas.core.frame.DataFrame'>\n",
      "Int64Index: 2632975 entries, 0 to 2645957\n",
      "Data columns (total 3 columns):\n",
      " #   Column   Non-Null Count    Dtype \n",
      "---  ------   --------------    ----- \n",
      " 0   user_id  2632975 non-null  object\n",
      " 1   label    2632975 non-null  int64 \n",
      " 2   dmp_id   2632975 non-null  int64 \n",
      "dtypes: int64(2), object(1)\n",
      "memory usage: 80.4+ MB\n"
     ]
    }
   ],
   "source": [
    "data.info(show_counts=True)"
   ]
  },
  {
   "cell_type": "markdown",
   "id": "6326c595-a2e9-4c49-a67c-f54f29b70714",
   "metadata": {},
   "source": [
    "数据集缺失值，无效进行处理"
   ]
  },
  {
   "cell_type": "markdown",
   "id": "cd597ed6-3849-40cc-865e-24f7b0c851c2",
   "metadata": {},
   "source": [
    "#### 【3】评估异常值"
   ]
  },
  {
   "cell_type": "code",
   "execution_count": 11,
   "id": "3377993c-25c2-44d3-8806-9e48d433c57c",
   "metadata": {},
   "outputs": [
    {
     "data": {
      "text/html": [
       "<div>\n",
       "<style scoped>\n",
       "    .dataframe tbody tr th:only-of-type {\n",
       "        vertical-align: middle;\n",
       "    }\n",
       "\n",
       "    .dataframe tbody tr th {\n",
       "        vertical-align: top;\n",
       "    }\n",
       "\n",
       "    .dataframe thead th {\n",
       "        text-align: right;\n",
       "    }\n",
       "</style>\n",
       "<table border=\"1\" class=\"dataframe\">\n",
       "  <thead>\n",
       "    <tr style=\"text-align: right;\">\n",
       "      <th>label</th>\n",
       "      <th>0</th>\n",
       "      <th>1</th>\n",
       "      <th>All</th>\n",
       "    </tr>\n",
       "    <tr>\n",
       "      <th>dmp_id</th>\n",
       "      <th></th>\n",
       "      <th></th>\n",
       "      <th></th>\n",
       "    </tr>\n",
       "  </thead>\n",
       "  <tbody>\n",
       "    <tr>\n",
       "      <th>1</th>\n",
       "      <td>1881745</td>\n",
       "      <td>23918</td>\n",
       "      <td>1905663</td>\n",
       "    </tr>\n",
       "    <tr>\n",
       "      <th>2</th>\n",
       "      <td>404811</td>\n",
       "      <td>6296</td>\n",
       "      <td>411107</td>\n",
       "    </tr>\n",
       "    <tr>\n",
       "      <th>3</th>\n",
       "      <td>307923</td>\n",
       "      <td>8282</td>\n",
       "      <td>316205</td>\n",
       "    </tr>\n",
       "    <tr>\n",
       "      <th>All</th>\n",
       "      <td>2594479</td>\n",
       "      <td>38496</td>\n",
       "      <td>2632975</td>\n",
       "    </tr>\n",
       "  </tbody>\n",
       "</table>\n",
       "</div>"
      ],
      "text/plain": [
       "label         0      1      All\n",
       "dmp_id                         \n",
       "1       1881745  23918  1905663\n",
       "2        404811   6296   411107\n",
       "3        307923   8282   316205\n",
       "All     2594479  38496  2632975"
      ]
     },
     "execution_count": 11,
     "metadata": {},
     "output_type": "execute_result"
    }
   ],
   "source": [
    "data.pivot_table(index=\"dmp_id\",columns=\"label\",values=\"user_id\",\n",
    "                 aggfunc=\"count\",margins=True)"
   ]
  },
  {
   "cell_type": "markdown",
   "id": "998f28a3-f2c2-4f2f-8d97-ab1be2eff1df",
   "metadata": {},
   "source": [
    "属性字段未发现缺失值，无需进行处理"
   ]
  },
  {
   "cell_type": "markdown",
   "id": "0cd9b394-e35a-4372-accd-ba50056c2e2d",
   "metadata": {},
   "source": [
    "## 3.样本容量检验"
   ]
  },
  {
   "cell_type": "markdown",
   "id": "80aa9c39-0427-46cc-a4e5-95a073263cdb",
   "metadata": {},
   "source": [
    "在进行A/B测试前，需检查样本容量是否满足实验所需最小值。\n",
    "\n",
    "首先想要设定点击率基准线以及最小提升比例，我们将对照组的点击率设为基准线"
   ]
  },
  {
   "cell_type": "code",
   "execution_count": 12,
   "id": "5b12c32f-fefe-439b-8831-c727c427383a",
   "metadata": {},
   "outputs": [
    {
     "data": {
      "text/plain": [
       "0.012551012429794775"
      ]
     },
     "execution_count": 12,
     "metadata": {},
     "output_type": "execute_result"
    }
   ],
   "source": [
    "data[data[\"dmp_id\"]==1][\"label\"].mean()"
   ]
  },
  {
   "cell_type": "code",
   "execution_count": 13,
   "id": "3fab4666-230f-4d05-b6c1-a5be600ca8ae",
   "metadata": {},
   "outputs": [
    {
     "name": "stdout",
     "output_type": "stream",
     "text": [
      "每组所需最小样本量：2659\n"
     ]
    }
   ],
   "source": [
    "# 参数设置（根据第一张图数据）\n",
    "baseline_rate = 0.0126  # 基准转化率1.26%\n",
    "effect_size = 0.01      # 最小检测效果1个百分点\n",
    "alpha = 0.05            # 显著性水平（默认5%）\n",
    "power = 0.8             # 统计功效（默认80%）\n",
    "\n",
    "# 计算样本量\n",
    "effect = sms.proportion_effectsize(baseline_rate, baseline_rate + effect_size)\n",
    "sample_size = sms.NormalIndPower().solve_power(\n",
    "    effect_size=effect, \n",
    "    alpha=alpha, \n",
    "    power=power,\n",
    "    ratio=1  # 两组样本相等\n",
    ")\n",
    "\n",
    "print(f\"每组所需最小样本量：{round(sample_size)}\")"
   ]
  },
  {
   "cell_type": "code",
   "execution_count": 14,
   "id": "e86400bf-83f8-4e24-a259-4a8e6143a51c",
   "metadata": {},
   "outputs": [
    {
     "data": {
      "text/plain": [
       "1    1905663\n",
       "2     411107\n",
       "3     316205\n",
       "Name: dmp_id, dtype: int64"
      ]
     },
     "execution_count": 14,
     "metadata": {},
     "output_type": "execute_result"
    }
   ],
   "source": [
    "data[\"dmp_id\"].value_counts()"
   ]
  },
  {
   "cell_type": "markdown",
   "id": "85d443e2-463a-4c41-9c54-09fc41afae34",
   "metadata": {},
   "source": [
    "两组营销活动的样本量分别为41，11万和31.62万，满足最小样本量需求"
   ]
  },
  {
   "cell_type": "markdown",
   "id": "90dd74ce-12f1-4815-a5c2-b5950dcbac0d",
   "metadata": {},
   "source": [
    "## 4.假设检验"
   ]
  },
  {
   "cell_type": "markdown",
   "id": "79bcb68a-1b0b-4522-8041-c291b5ddbf28",
   "metadata": {},
   "source": [
    "先观察几组试验的点击率情况"
   ]
  },
  {
   "cell_type": "code",
   "execution_count": 15,
   "id": "48d894cd-c426-4172-9118-62dd41b57bed",
   "metadata": {},
   "outputs": [
    {
     "name": "stdout",
     "output_type": "stream",
     "text": [
      "对照组： 0.012551012429794775\n",
      "营销策略一： 0.015314747742072015\n",
      "营销策略二： 0.026191869198779274\n"
     ]
    }
   ],
   "source": [
    "print(\"对照组：\",data[data[\"dmp_id\"]==1][\"label\"].mean())\n",
    "print(\"营销策略一：\",data[data[\"dmp_id\"]==2][\"label\"].mean())\n",
    "print(\"营销策略二：\",data[data[\"dmp_id\"]==3][\"label\"].mean())"
   ]
  },
  {
   "cell_type": "markdown",
   "id": "85d5cc3e-7cd7-4f25-8595-c1dd9d07b7b7",
   "metadata": {},
   "source": [
    "可以看到策略一和策略二相较对照组在点击率上都有不同程度的提升\n",
    "\n",
    "其中策略一提升0.2个百分点，策略二提升1.3个百分点，只有策略二满足了前面我们对点击率提升最小值的要求\n",
    "\n",
    "接下来需要进行假设检验，看策略二点击率的提升是否显著\n",
    "\n",
    "__a.零假设和备择假设__\n",
    "\n",
    "设对照组点击率为p1，策略二点击率为p2，则：\n",
    "\n",
    "零假设 H0：p1 ≥ p2\n",
    "\n",
    "备择假设 H1： p1 ≺ p2\n",
    "\n",
    "__b.分布类型、检验类型和显著水平__\n",
    "\n",
    "样本服从六点发布，独立双样本，样本大小n≻30，总体均值和标准差位置，所以采用Z检验。显著性水平ɑ取0.05"
   ]
  },
  {
   "cell_type": "markdown",
   "id": "58a09206-81ee-4b89-9be1-36ef6f1737f0",
   "metadata": {},
   "source": [
    "### （1）方法一：公式计算"
   ]
  },
  {
   "cell_type": "code",
   "execution_count": 17,
   "id": "85fc4e29-08ac-4843-9708-8ef9983d0bc5",
   "metadata": {},
   "outputs": [
    {
     "name": "stdout",
     "output_type": "stream",
     "text": [
      "总和点击率： 0.014492310074225832\n"
     ]
    }
   ],
   "source": [
    "#用户数\n",
    "n_old=len(data[data.dmp_id==1]) #对照组\n",
    "n_new=len(data[data.dmp_id==3]) #策略二\n",
    "\n",
    "#点击数\n",
    "c_old = len(data[(data.dmp_id==1) & (data.label==1)])\n",
    "c_new = len(data[(data.dmp_id==3) & (data.label==1)])\n",
    "\n",
    "#计算点击数\n",
    "r_old=c_old/n_old\n",
    "r_new=c_new/n_new\n",
    "\n",
    "#总和点击率\n",
    "r=(c_old+c_new)/(n_old+n_new)\n",
    "\n",
    "print(\"总和点击率：\",r)"
   ]
  },
  {
   "cell_type": "code",
   "execution_count": 20,
   "id": "b059e14e-0f2a-4502-9c09-b594b1977de6",
   "metadata": {},
   "outputs": [
    {
     "name": "stdout",
     "output_type": "stream",
     "text": [
      "检验统计量Z： -59.44168632985996\n"
     ]
    }
   ],
   "source": [
    "#计算检验统计量z\n",
    "z=(r_old-r_new)/np.sqrt(r*(1-r)*(1/n_old+1/n_new))\n",
    "\n",
    "print(\"检验统计量Z：\",z)"
   ]
  },
  {
   "cell_type": "code",
   "execution_count": 21,
   "id": "3faa052a-f76a-4705-8173-647235796fbf",
   "metadata": {},
   "outputs": [
    {
     "data": {
      "text/plain": [
       "-1.6448536269514729"
      ]
     },
     "execution_count": 21,
     "metadata": {},
     "output_type": "execute_result"
    }
   ],
   "source": [
    "#查ɑ=0.05对应的z分位数\n",
    "from scipy.stats import norm\n",
    "z_alpha=norm.ppf(0.05)\n",
    "z_alpha"
   ]
  },
  {
   "cell_type": "markdown",
   "id": "c94201a8-5a4f-4b1c-9390-42770562f63a",
   "metadata": {},
   "source": [
    "z=alpha=-1.64,检验统计量z=-59.44，该检验为左侧单位检验，拒绝域为{z<z_alpha}\n",
    "\n",
    "所以我们可以得出结论：原假设不成立，策略二点击率的提升在统计上是显著的"
   ]
  },
  {
   "cell_type": "markdown",
   "id": "6289a10d-1a60-4af8-9767-d5627f8b92d5",
   "metadata": {},
   "source": [
    "### （2）方法二：Python函数计算"
   ]
  },
  {
   "cell_type": "markdown",
   "id": "0e69fef6-7e70-4d41-93a3-9667f476b063",
   "metadata": {},
   "source": [
    "直接用pyhon statsmodels包计算z值和p值"
   ]
  },
  {
   "cell_type": "code",
   "execution_count": 24,
   "id": "2e5715be-1e8f-45ae-817b-349ee4075e85",
   "metadata": {},
   "outputs": [
    {
     "name": "stdout",
     "output_type": "stream",
     "text": [
      "检验统计量z： -59.44168632985996 ，p值： 0.0\n"
     ]
    }
   ],
   "source": [
    "import statsmodels.stats.proportion as sp\n",
    "\n",
    "#进行比例z检验，备择假设为新策略组的点击率大于对照组\n",
    "z_score,p=sp.proportions_ztest([c_old,c_new],[n_old,n_new],\n",
    "                               alternative='smaller')\n",
    "\n",
    "print(\"检验统计量z：\",z_score,\"，p值：\",p)"
   ]
  },
  {
   "cell_type": "markdown",
   "id": "c44272cc-a983-46d6-ab88-9d2f49d832e8",
   "metadata": {},
   "source": [
    "p值约等于0，p<ɑ，与方法一结论相同，拒绝原假设\n",
    "\n",
    "作为补充，我们再检验下策略一的点击率提升是否显著"
   ]
  },
  {
   "cell_type": "code",
   "execution_count": 30,
   "id": "b7c4a3b6-65af-4902-bcb7-8e38dd9d4fff",
   "metadata": {},
   "outputs": [
    {
     "name": "stdout",
     "output_type": "stream",
     "text": [
      "检验统计量z： -14.165873564308429 ，p值： 7.450121742737582e-46\n"
     ]
    }
   ],
   "source": [
    "#策略一检验\n",
    "group2_click = len(data.query(\"dmp_id == 2 and label == 1\"))\n",
    "group1_total = len(data.query(\"dmp_id == 1\"))\n",
    "group2_total = len(data.query(\"dmp_id == 2\"))\n",
    "\n",
    "z_score, p = sp.proportions_ztest(\n",
    "    [c_old, group2_click], \n",
    "    [group1_total, group2_total],\n",
    "    alternative='smaller'\n",
    ")\n",
    "print(\"检验统计量z：\", z_score, \"，p值：\", p)"
   ]
  },
  {
   "cell_type": "markdown",
   "id": "6c5700b5-5e83-4fa2-9db5-ab20e4db1ce6",
   "metadata": {},
   "source": [
    "p值约等于7.45e-46，p<ɑ，但因为前面我们设置了对点击率提升的最小值要求，这里仍只选择第二组策略进行推广"
   ]
  },
  {
   "cell_type": "markdown",
   "id": "eb574ed8-bb9b-4546-887c-3042c2b25864",
   "metadata": {},
   "source": [
    "## 5.结论"
   ]
  },
  {
   "cell_type": "markdown",
   "id": "4d5bedbe-59ad-47c1-a15c-f4a56296c02f",
   "metadata": {},
   "source": [
    "综上所述，这两种营销策略中，策略二对广告点击率有显著提升效果，且相较于对照组点击率提升了近一倍，因而在两组营销策略中应该选择第二组进行推广"
   ]
  }
 ],
 "metadata": {
  "kernelspec": {
   "display_name": "Python 3 (ipykernel)",
   "language": "python",
   "name": "python3"
  },
  "language_info": {
   "codemirror_mode": {
    "name": "ipython",
    "version": 3
   },
   "file_extension": ".py",
   "mimetype": "text/x-python",
   "name": "python",
   "nbconvert_exporter": "python",
   "pygments_lexer": "ipython3",
   "version": "3.9.13"
  }
 },
 "nbformat": 4,
 "nbformat_minor": 5
}
